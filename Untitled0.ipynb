{
  "nbformat": 4,
  "nbformat_minor": 0,
  "metadata": {
    "colab": {
      "name": "Untitled0.ipynb",
      "provenance": [],
      "authorship_tag": "ABX9TyNZGuveX3DnQLOVDt7s6jfG",
      "include_colab_link": true
    },
    "kernelspec": {
      "name": "python3",
      "display_name": "Python 3"
    },
    "language_info": {
      "name": "python"
    }
  },
  "cells": [
    {
      "cell_type": "markdown",
      "metadata": {
        "id": "view-in-github",
        "colab_type": "text"
      },
      "source": [
        "<a href=\"https://colab.research.google.com/github/suwetha11/suwetha/blob/main/Untitled0.ipynb\" target=\"_parent\"><img src=\"https://colab.research.google.com/assets/colab-badge.svg\" alt=\"Open In Colab\"/></a>"
      ]
    },
    {
      "cell_type": "code",
      "metadata": {
        "colab": {
          "base_uri": "https://localhost:8080/"
        },
        "id": "N3wDTwbwlTM6",
        "outputId": "30a8a2e4-a341-47a2-a35a-b54615e54828"
      },
      "source": [
        "p=float(input(\"enter the principal amount:\"))\n",
        "n=float(input(\"enter the number of years:\"))\n",
        "r=float(input(\"enter the rate of interes:\"))\n",
        "#calculate simple interest by using this formula\n",
        "si=(p*n*r)/100\n",
        "#print\n",
        "print(\"simple interest:{}\".format(si))"
      ],
      "execution_count": 1,
      "outputs": [
        {
          "output_type": "stream",
          "text": [
            "enter the principal amount:30000\n",
            "enter the number of years:6\n",
            "enter the rate of interes:4\n",
            "simple interest:7200.0\n"
          ],
          "name": "stdout"
        }
      ]
    },
    {
      "cell_type": "code",
      "metadata": {
        "colab": {
          "base_uri": "https://localhost:8080/"
        },
        "id": "6AM995BgmsUF",
        "outputId": "ea4fae81-0de2-4ffe-b290-7b906c2af487"
      },
      "source": [
        "name=input('enter name:')\n",
        "age=int(input('enter age:'))\n",
        "address=input('enter address:')\n",
        "salary=int(input('enter salary:'))\n",
        "mobile=int(input('enter mobile number:'))\n",
        "print('name:',name)\n",
        "print('age:',age)\n",
        "print('salary:',salary)\n",
        "print('mobile number:',mobile)"
      ],
      "execution_count": 3,
      "outputs": [
        {
          "output_type": "stream",
          "text": [
            "enter name:suwetha\n",
            "enter age:25\n",
            "enter address:25,raja street,tiruchengode.\n",
            "enter salary:45000\n",
            "enter mobile number:7654398000\n",
            "name: suwetha\n",
            "age: 25\n",
            "salary: 45000\n",
            "mobile number: 7654398000\n"
          ],
          "name": "stdout"
        }
      ]
    }
  ]
}